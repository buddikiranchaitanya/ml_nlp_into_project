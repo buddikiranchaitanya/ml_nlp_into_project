{
 "cells": [
  {
   "cell_type": "code",
   "execution_count": 1,
   "id": "273bb815",
   "metadata": {
    "scrolled": true
   },
   "outputs": [
    {
     "name": "stdout",
     "output_type": "stream",
     "text": [
      "Requirements\n",
      "\n",
      "Pandas: 1.3.5\n",
      "Python: 3.7.7 (default, Mar 23 2020, 17:31:31) \n",
      "[Clang 4.0.1 (tags/RELEASE_401/final)]\n",
      "NLTK: 3.6.5\n",
      "Scikit-Learn: 1.0.2\n",
      "Tensorflow: 2.0.0\n",
      "Numpy: 1.18.5\n"
     ]
    },
    {
     "name": "stderr",
     "output_type": "stream",
     "text": [
      "Using TensorFlow backend.\n"
     ]
    }
   ],
   "source": [
    "from os import path\n",
    "import pandas as pand\n",
    "import numpy as nmp\n",
    "import string, time, score, random, re, sys, nltk, sklearn\n",
    "from nltk.corpus import stopwords\n",
    "from scipy.sparse import hstack, coo_matrix, csr_matrix\n",
    "from sklearn.metrics import classification_report, accuracy_score, confusion_matrix, ConfusionMatrixDisplay\n",
    "from sklearn.svm import SVC, LinearSVC  \n",
    "from sklearn.feature_extraction.text import TfidfTransformer, CountVectorizer\n",
    "from sklearn.feature_selection import mutual_info_classif, SelectKBest, chi2, f_classif\n",
    "from sklearn.ensemble import RandomForestClassifier\n",
    "from sklearn.tree import DecisionTreeClassifier\n",
    "import matplotlib.pyplot as ploty\n",
    "from sklearn.linear_model import LogisticRegression\n",
    "from sklearn.naive_bayes import MultinomialNB, GaussianNB\n",
    "from sklearn.decomposition import PCA, TruncatedSVD, SparsePCA\n",
    "from sklearn.preprocessing import StandardScaler\n",
    "from sklearn.linear_model import SGDClassifier\n",
    "from sklearn.neighbors import KNeighborsClassifier\n",
    "import tensorflow as tf\n",
    "from tensorflow import keras\n",
    "from tensorflow.keras import layers\n",
    "from tensorflow.keras.preprocessing.text import Tokenizer, one_hot\n",
    "from tensorflow.keras.preprocessing.sequence import pad_sequences\n",
    "from tensorflow.keras.models import *\n",
    "from tensorflow.keras.layers import *\n",
    "from keras.initializers import Constant\n",
    "from keras.utils import to_categorical\n",
    "\n",
    "# scorer & LABELS imported from FNC-1 baseline implementation\n",
    "LABELS = ['agree', 'disagree', 'discuss', 'unrelated']\n",
    "RELATED = LABELS[0:3]\n",
    "\n",
    "\n",
    "print(\"Requirements\\n\")\n",
    "print (\"Pandas: {}\".format(pand.__version__))\n",
    "print (\"Python: {}\".format(sys.version))\n",
    "print (\"NLTK: {}\".format(nltk.__version__))\n",
    "print (\"Scikit-Learn: {}\".format(sklearn.__version__))\n",
    "print (\"Tensorflow: {}\".format(tf.__version__))\n",
    "print (\"Numpy: {}\".format(nmp.__version__))"
   ]
  },
  {
   "cell_type": "code",
   "execution_count": 2,
   "id": "bd887f8b",
   "metadata": {},
   "outputs": [],
   "source": [
    "# loading the data sets\n",
    "df_bodies = pand.read_csv(\"FNC_1_Data/train_bodies.csv\")\n",
    "df_stances = pand.read_csv(\"FNC_1_Data/train_stances.csv\")\n",
    "\n",
    "# converting BodyID to int type\n",
    "df_stances['Body ID'] = df_stances['Body ID'].astype(str).astype(int) \n",
    "df_bodies['Body ID'] = df_bodies['Body ID'].astype(str).astype(int)\n"
   ]
  },
  {
   "cell_type": "code",
   "execution_count": 3,
   "id": "4b3a32b1",
   "metadata": {},
   "outputs": [
    {
     "data": {
      "text/html": [
       "<div>\n",
       "<style scoped>\n",
       "    .dataframe tbody tr th:only-of-type {\n",
       "        vertical-align: middle;\n",
       "    }\n",
       "\n",
       "    .dataframe tbody tr th {\n",
       "        vertical-align: top;\n",
       "    }\n",
       "\n",
       "    .dataframe thead th {\n",
       "        text-align: right;\n",
       "    }\n",
       "</style>\n",
       "<table border=\"1\" class=\"dataframe\">\n",
       "  <thead>\n",
       "    <tr style=\"text-align: right;\">\n",
       "      <th></th>\n",
       "      <th>Headline</th>\n",
       "      <th>Body ID</th>\n",
       "      <th>Stance</th>\n",
       "    </tr>\n",
       "  </thead>\n",
       "  <tbody>\n",
       "    <tr>\n",
       "      <th>0</th>\n",
       "      <td>Police find mass graves with at least '15 bodi...</td>\n",
       "      <td>712</td>\n",
       "      <td>unrelated</td>\n",
       "    </tr>\n",
       "    <tr>\n",
       "      <th>1</th>\n",
       "      <td>Hundreds of Palestinians flee floods in Gaza a...</td>\n",
       "      <td>158</td>\n",
       "      <td>agree</td>\n",
       "    </tr>\n",
       "    <tr>\n",
       "      <th>2</th>\n",
       "      <td>Christian Bale passes on role of Steve Jobs, a...</td>\n",
       "      <td>137</td>\n",
       "      <td>unrelated</td>\n",
       "    </tr>\n",
       "    <tr>\n",
       "      <th>3</th>\n",
       "      <td>HBO and Apple in Talks for $15/Month Apple TV ...</td>\n",
       "      <td>1034</td>\n",
       "      <td>unrelated</td>\n",
       "    </tr>\n",
       "    <tr>\n",
       "      <th>4</th>\n",
       "      <td>Spider burrowed through tourist's stomach and ...</td>\n",
       "      <td>1923</td>\n",
       "      <td>disagree</td>\n",
       "    </tr>\n",
       "  </tbody>\n",
       "</table>\n",
       "</div>"
      ],
      "text/plain": [
       "                                            Headline  Body ID     Stance\n",
       "0  Police find mass graves with at least '15 bodi...      712  unrelated\n",
       "1  Hundreds of Palestinians flee floods in Gaza a...      158      agree\n",
       "2  Christian Bale passes on role of Steve Jobs, a...      137  unrelated\n",
       "3  HBO and Apple in Talks for $15/Month Apple TV ...     1034  unrelated\n",
       "4  Spider burrowed through tourist's stomach and ...     1923   disagree"
      ]
     },
     "execution_count": 3,
     "metadata": {},
     "output_type": "execute_result"
    }
   ],
   "source": [
    "df_stances.head()"
   ]
  },
  {
   "cell_type": "code",
   "execution_count": 4,
   "id": "f469a71e",
   "metadata": {
    "scrolled": true
   },
   "outputs": [
    {
     "data": {
      "text/html": [
       "<div>\n",
       "<style scoped>\n",
       "    .dataframe tbody tr th:only-of-type {\n",
       "        vertical-align: middle;\n",
       "    }\n",
       "\n",
       "    .dataframe tbody tr th {\n",
       "        vertical-align: top;\n",
       "    }\n",
       "\n",
       "    .dataframe thead th {\n",
       "        text-align: right;\n",
       "    }\n",
       "</style>\n",
       "<table border=\"1\" class=\"dataframe\">\n",
       "  <thead>\n",
       "    <tr style=\"text-align: right;\">\n",
       "      <th></th>\n",
       "      <th>Body ID</th>\n",
       "      <th>articleBody</th>\n",
       "    </tr>\n",
       "  </thead>\n",
       "  <tbody>\n",
       "    <tr>\n",
       "      <th>0</th>\n",
       "      <td>0</td>\n",
       "      <td>A small meteorite crashed into a wooded area i...</td>\n",
       "    </tr>\n",
       "    <tr>\n",
       "      <th>1</th>\n",
       "      <td>4</td>\n",
       "      <td>Last week we hinted at what was to come as Ebo...</td>\n",
       "    </tr>\n",
       "    <tr>\n",
       "      <th>2</th>\n",
       "      <td>5</td>\n",
       "      <td>(NEWSER) – Wonder how long a Quarter Pounder w...</td>\n",
       "    </tr>\n",
       "    <tr>\n",
       "      <th>3</th>\n",
       "      <td>6</td>\n",
       "      <td>Posting photos of a gun-toting child online, I...</td>\n",
       "    </tr>\n",
       "    <tr>\n",
       "      <th>4</th>\n",
       "      <td>7</td>\n",
       "      <td>At least 25 suspected Boko Haram insurgents we...</td>\n",
       "    </tr>\n",
       "  </tbody>\n",
       "</table>\n",
       "</div>"
      ],
      "text/plain": [
       "   Body ID                                        articleBody\n",
       "0        0  A small meteorite crashed into a wooded area i...\n",
       "1        4  Last week we hinted at what was to come as Ebo...\n",
       "2        5  (NEWSER) – Wonder how long a Quarter Pounder w...\n",
       "3        6  Posting photos of a gun-toting child online, I...\n",
       "4        7  At least 25 suspected Boko Haram insurgents we..."
      ]
     },
     "execution_count": 4,
     "metadata": {},
     "output_type": "execute_result"
    }
   ],
   "source": [
    "df_bodies.head()"
   ]
  },
  {
   "cell_type": "code",
   "execution_count": 5,
   "id": "92f69789",
   "metadata": {},
   "outputs": [],
   "source": [
    "df_bodies=df_bodies.sample(frac = 1) # shuffling the BodyIDs to ensure random sampling\n",
    "df_bodies.reset_index(drop=True, inplace=True)\n",
    "\n",
    "# train-test split of BodyIDs in 80:20 ratio\n",
    "training_ids = df_bodies['Body ID'][:int(0.8 * len(df_bodies))] \n",
    "test_ids = df_bodies['Body ID'][int(0.8 * len(df_bodies)):].reset_index(drop=True)\n"
   ]
  },
  {
   "cell_type": "code",
   "execution_count": 6,
   "id": "206adb6e",
   "metadata": {},
   "outputs": [],
   "source": [
    "# hyper-parameters\n",
    "vocab_length=10000\n",
    "max_headline = 30\n",
    "max_body = 2000\n",
    "total_raw_features = 2030"
   ]
  },
  {
   "cell_type": "code",
   "execution_count": 7,
   "id": "2a4e53e6",
   "metadata": {},
   "outputs": [
    {
     "name": "stdout",
     "output_type": "stream",
     "text": [
      "10000\n",
      "27874\n"
     ]
    }
   ],
   "source": [
    "# conversion of both headlines and bodies text into tokens\n",
    "\n",
    "tokenizer = Tokenizer(num_words=vocab_length, oov_token='<OOV>')\n",
    "tokenizer.fit_on_texts(df_stances['Headline'].append(df_bodies['articleBody']))\n",
    "print(tokenizer.num_words)\n",
    "print(len(tokenizer.word_index))\n",
    "\n"
   ]
  },
  {
   "cell_type": "code",
   "execution_count": 8,
   "id": "7c755c58",
   "metadata": {},
   "outputs": [],
   "source": [
    "# assembling the train and test dataframes by combining the bodies and stances over BodyID\n",
    "tokens_train=[]\n",
    "tokens_test=[]\n",
    "for i in range(len(df_stances)):\n",
    "    body = (df_bodies.loc[df_bodies['Body ID']==df_stances.loc[i]['Body ID']].squeeze())['articleBody']\n",
    "    if df_stances.loc[i]['Body ID'] in test_ids:\n",
    "        tokens_test.append([df_stances.loc[i]['Headline'], body , df_stances.loc[i]['Stance']])\n",
    "    else:\n",
    "        tokens_train.append([df_stances.loc[i]['Headline'], body , df_stances.loc[i]['Stance']])    \n",
    "df_tokens_train = pand.DataFrame(tokens_train, columns=['Headline', 'articleBody', 'Stance'])\n",
    "df_tokens_test = pand.DataFrame(tokens_test, columns=['Headline', 'articleBody', 'Stance'])\n",
    "labels_test=[]\n",
    "for i in range(len(tokens_test)):\n",
    "    labels_test.append(LABELS.index(df_tokens_test.loc[i]['Stance']))\n",
    "labels_train=[]\n",
    "for i in range(len(tokens_train)):\n",
    "    labels_train.append(LABELS.index(df_tokens_train.loc[i]['Stance']))\n",
    "df_labels_test= nmp.array(labels_test)\n",
    "df_labels_train = nmp.array(labels_train)"
   ]
  },
  {
   "cell_type": "code",
   "execution_count": 9,
   "id": "64e95646",
   "metadata": {},
   "outputs": [],
   "source": [
    "# genertation of feature matrices\n",
    "\n",
    "train_headline_features_unpad = tokenizer.texts_to_sequences(df_tokens_train['Headline'])\n",
    "train_headline_features_padded = pad_sequences(train_headline_features_unpad, maxlen=max_headline, padding='post', truncating='post')\n",
    "train_body_features_unpad = tokenizer.texts_to_sequences(df_tokens_train['articleBody'])\n",
    "train_body_features_padded = pad_sequences(train_body_features_unpad, maxlen=max_body, padding='post', truncating='post')\n",
    "train_features = nmp.hstack([train_headline_features_padded, train_body_features_padded])\n",
    "\n",
    "test_headline_features_unpad = tokenizer.texts_to_sequences(df_tokens_test['Headline'])\n",
    "test_headline_features_padded = pad_sequences(test_headline_features_unpad, maxlen=max_headline, padding='post', truncating='post')\n",
    "test_body_features_unpad = tokenizer.texts_to_sequences(df_tokens_test['articleBody'])\n",
    "test_body_features_padded = pad_sequences(test_body_features_unpad, maxlen=max_body, padding='post', truncating='post')\n",
    "test_features = nmp.hstack([test_headline_features_padded, test_body_features_padded])\n"
   ]
  },
  {
   "cell_type": "code",
   "execution_count": 10,
   "id": "ebc1fd06",
   "metadata": {},
   "outputs": [],
   "source": [
    "# function that takes the test train splits as inputs along with feature selection & dimension\n",
    "# reduction parameters and evaluates the fit times, confusion matrices & accuracy scores for\n",
    "# 4 chosen classifier models\n",
    "def evaluate_classifiers (X_train, y_train, X_test, y_test, dim_red, feature_selection):\n",
    "    fs='none'\n",
    "    dm='none'\n",
    "    \n",
    "    if (feature_selection=='chi2' or feature_selection=='mi'):\n",
    "        if (feature_selection=='chi2'):\n",
    "            fs='Chi2 with 1000-best features'\n",
    "            Kbest = SelectKBest(chi2, k=1000)\n",
    "            Kbest.fit(X_train, y_train)\n",
    "            X_train = Kbest.transform (X_train)\n",
    "            X_test = Kbest.transform (X_test)\n",
    "        if (feature_selection=='mi'):\n",
    "            fs='Mutual info with 400-best features'\n",
    "            Kbest = SelectKBest(mutual_info_classif, k=20)      \n",
    "            Kbest.fit(X_train, y_train)\n",
    "            X_train = Kbest.transform (X_train)\n",
    "            X_test = Kbest.transform (X_test)\n",
    "        if (dim_red=='svd'):\n",
    "            dm = 'SVD redn to 300 features'\n",
    "            svd = TruncatedSVD(n_components=300).fit(X_train)\n",
    "            X_train = svd.transform(X_train)\n",
    "            X_test = svd.transform(X_test)\n",
    "        if (dim_red=='pca'):\n",
    "            dm = 'PCA redn to 300 features'\n",
    "            pca = PCA(n_components=300).fit(X_train)\n",
    "            X_train = pca.transform(X_train)\n",
    "            X_test = pca.transform(X_test)    \n",
    "        \n",
    "    begin = time.time()\n",
    "    my_DT = DecisionTreeClassifier(criterion='entropy', random_state=0).fit(X_train, y_train)\n",
    "    end = time.time()\n",
    "    DT_fit_time = end-begin\n",
    "    \n",
    "    begin = time.time()\n",
    "    my_RFC = RandomForestClassifier(n_estimators=10, random_state=50).fit(X_train, y_train)\n",
    "    end = time.time()\n",
    "    RFC_fit_time = end-begin\n",
    "    \n",
    "    begin = time.time()\n",
    "    my_KN = KNeighborsClassifier().fit(X_train, y_train)\n",
    "    end = time.time()\n",
    "    KN_fit_time = end-begin\n",
    "    \n",
    "    begin = time.time()\n",
    "    my_SGDC = SGDClassifier(max_iter=50, tol=None).fit(X_train, y_train)\n",
    "    end = time.time()\n",
    "    SGDC_fit_time = end-begin\n",
    "    \n",
    "    print(f\"\\n\\nClassification Report & Confusion matrix \\n(classifier= Decision tree, feature selection = {fs}, dimension reduction = {dm})\\n\")\n",
    "    test_predictions_DT = my_DT.predict(X_test)\n",
    "    print (classification_report(y_test, test_predictions_DT))\n",
    "    predicted = [LABELS[int(a)] for a in test_predictions_DT]\n",
    "    actual = [LABELS[int(a)] for a in y_test]\n",
    "    score_DT = score.report_score(actual, predicted)\n",
    "    accuracy_DT = accuracy_score(actual,predicted)\n",
    "    \n",
    "    print(f\"\\n\\nClassification Report & Confusion matrix \\n(classifier= Random Forest, feature selection = {fs}, dimension reduction = {dm})\\n\")\n",
    "    test_predictions_RFC = my_RFC.predict(X_test)\n",
    "    print (classification_report(y_test, test_predictions_RFC))\n",
    "    predicted = [LABELS[int(a)] for a in test_predictions_RFC]\n",
    "    actual = [LABELS[int(a)] for a in y_test]\n",
    "    score_RFC =score.report_score(actual, predicted)\n",
    "    accuracy_RFC = accuracy_score(actual,predicted)\n",
    "    \n",
    "    print(f\"\\n\\nClassification Report & Confusion matrix \\n(classifier= KNeighbor, feature selection = {fs}, dimension reduction = {dm})\\n\")\n",
    "    test_predictions_KN = my_KN.predict(X_test)\n",
    "    print (classification_report(y_test, test_predictions_KN))\n",
    "    predicted = [LABELS[int(a)] for a in test_predictions_KN]\n",
    "    actual = [LABELS[int(a)] for a in y_test]\n",
    "    score_KN = score.report_score(actual, predicted)\n",
    "    accuracy_KN = accuracy_score(actual,predicted)\n",
    "    \n",
    "    print(f\"\\n\\nClassification Report & Confusion matrix \\n(classifier= SGDC, feature selection = {fs}, dimension reduction = {dm})\\n\")\n",
    "    test_predictions_SGDC = my_SGDC.predict(X_test)\n",
    "    print (classification_report(y_test, test_predictions_SGDC))\n",
    "    predicted = [LABELS[int(a)] for a in test_predictions_SGDC]\n",
    "    actual = [LABELS[int(a)] for a in y_test]\n",
    "    score_SGDC = score.report_score(actual, predicted)\n",
    "    accuracy_SGDC = accuracy_score(actual,predicted)\n",
    "    \n",
    "    fig, ax = ploty.subplots(figsize=(10,5))\n",
    "    ax2 = ax.twinx()\n",
    "    ax.set_ylabel('Fit times', color='teal')\n",
    "    ax2.set_ylabel('Validation Score % (FNC-1 metric)', color='coral')\n",
    "    x=nmp.arange(4)\n",
    "    X=['Decision Tree', 'Random Forest', 'KNeighbors', 'SGDC']\n",
    "    ax.bar(x-0.1, [DT_fit_time, RFC_fit_time, KN_fit_time, SGDC_fit_time],0.2, color=['teal'], label='Fit times')\n",
    "    ax2.bar(x+0.1, [score_DT, score_RFC, score_KN, score_SGDC], 0.2,  color=['coral'], label='Accuracy score')\n",
    "    ax2.set_ylim([0, 100])\n",
    "    title=\"feature selection= \"+fs+\", dim reduction= \"+dm\n",
    "    ploty.title(title)\n",
    "    ploty.xticks(x, X)\n",
    "    ax.legend(loc='upper left')\n",
    "    ax2.legend(loc='upper right')\n",
    "    ploty.grid()\n",
    "    ploty.show()\n",
    "    \n",
    "    return [score_DT, score_RFC, score_KN, score_SGDC]\n",
    "\n",
    "\n",
    "    "
   ]
  },
  {
   "cell_type": "markdown",
   "id": "91f78f52",
   "metadata": {},
   "source": [
    "### Classification over raw features (2030 features)"
   ]
  },
  {
   "cell_type": "code",
   "execution_count": 11,
   "id": "0bbffb85",
   "metadata": {},
   "outputs": [
    {
     "name": "stdout",
     "output_type": "stream",
     "text": [
      "\n",
      "\n",
      "Classification Report & Confusion matrix \n",
      "(classifier= Decision tree, feature selection = none, dimension reduction = none)\n",
      "\n",
      "              precision    recall  f1-score   support\n",
      "\n",
      "           0       0.03      0.15      0.05       142\n",
      "           1       0.01      0.08      0.01        13\n",
      "           2       0.04      0.35      0.07       217\n",
      "           3       0.94      0.54      0.68      5411\n",
      "\n",
      "    accuracy                           0.52      5783\n",
      "   macro avg       0.25      0.28      0.20      5783\n",
      "weighted avg       0.88      0.52      0.64      5783\n",
      "\n",
      "-------------------------------------------------------------\n",
      "|           |   agree   | disagree  |  discuss  | unrelated |\n",
      "-------------------------------------------------------------\n",
      "|   agree   |    22     |     8     |    34     |    78     |\n",
      "-------------------------------------------------------------\n",
      "| disagree  |     2     |     1     |     4     |     6     |\n",
      "-------------------------------------------------------------\n",
      "|  discuss  |    18     |    11     |    76     |    112    |\n",
      "-------------------------------------------------------------\n",
      "| unrelated |    642    |    162    |   1710    |   2897    |\n",
      "-------------------------------------------------------------\n",
      "Score: 842.5 out of 1724.75\t(48.84765908102624%)\n",
      "\n",
      "\n",
      "Classification Report & Confusion matrix \n",
      "(classifier= Random Forest, feature selection = none, dimension reduction = none)\n",
      "\n",
      "              precision    recall  f1-score   support\n",
      "\n",
      "           0       0.04      0.12      0.05       142\n",
      "           1       0.00      0.00      0.00        13\n",
      "           2       0.03      0.35      0.06       217\n",
      "           3       0.93      0.53      0.68      5411\n",
      "\n",
      "    accuracy                           0.51      5783\n",
      "   macro avg       0.25      0.25      0.20      5783\n",
      "weighted avg       0.88      0.51      0.64      5783\n",
      "\n",
      "-------------------------------------------------------------\n",
      "|           |   agree   | disagree  |  discuss  | unrelated |\n",
      "-------------------------------------------------------------\n",
      "|   agree   |    17     |     0     |    55     |    70     |\n",
      "-------------------------------------------------------------\n",
      "| disagree  |     2     |     0     |     3     |     8     |\n",
      "-------------------------------------------------------------\n",
      "|  discuss  |    15     |     0     |    77     |    125    |\n",
      "-------------------------------------------------------------\n",
      "| unrelated |    445    |     3     |   2091    |   2872    |\n",
      "-------------------------------------------------------------\n",
      "Score: 830.75 out of 1724.75\t(48.16640092767068%)\n",
      "\n",
      "\n",
      "Classification Report & Confusion matrix \n",
      "(classifier= KNeighbor, feature selection = none, dimension reduction = none)\n",
      "\n",
      "              precision    recall  f1-score   support\n",
      "\n",
      "           0       0.03      0.15      0.04       142\n",
      "           1       0.00      0.00      0.00        13\n",
      "           2       0.04      0.35      0.07       217\n",
      "           3       0.94      0.52      0.67      5411\n",
      "\n",
      "    accuracy                           0.50      5783\n",
      "   macro avg       0.25      0.26      0.20      5783\n",
      "weighted avg       0.88      0.50      0.63      5783\n",
      "\n",
      "-------------------------------------------------------------\n",
      "|           |   agree   | disagree  |  discuss  | unrelated |\n",
      "-------------------------------------------------------------\n",
      "|   agree   |    22     |     4     |    48     |    68     |\n",
      "-------------------------------------------------------------\n",
      "| disagree  |     3     |     0     |     2     |     8     |\n",
      "-------------------------------------------------------------\n",
      "|  discuss  |    31     |     0     |    77     |    109    |\n",
      "-------------------------------------------------------------\n",
      "| unrelated |    797    |    70     |   1729    |   2815    |\n",
      "-------------------------------------------------------------\n",
      "Score: 824.75 out of 1724.75\t(47.818524423829544%)\n",
      "\n",
      "\n",
      "Classification Report & Confusion matrix \n",
      "(classifier= SGDC, feature selection = none, dimension reduction = none)\n",
      "\n",
      "              precision    recall  f1-score   support\n",
      "\n",
      "           0       0.03      0.06      0.03       142\n",
      "           1       0.00      0.08      0.00        13\n",
      "           2       0.04      0.29      0.08       217\n",
      "           3       0.94      0.58      0.72      5411\n",
      "\n",
      "    accuracy                           0.56      5783\n",
      "   macro avg       0.25      0.25      0.21      5783\n",
      "weighted avg       0.88      0.56      0.68      5783\n",
      "\n",
      "-------------------------------------------------------------\n",
      "|           |   agree   | disagree  |  discuss  | unrelated |\n",
      "-------------------------------------------------------------\n",
      "|   agree   |     8     |    18     |    41     |    75     |\n",
      "-------------------------------------------------------------\n",
      "| disagree  |     0     |     1     |     4     |     8     |\n",
      "-------------------------------------------------------------\n",
      "|  discuss  |    25     |    22     |    62     |    108    |\n",
      "-------------------------------------------------------------\n",
      "| unrelated |    286    |    644    |   1325    |   3156    |\n",
      "-------------------------------------------------------------\n",
      "Score: 887.5 out of 1724.75\t(51.45673285983476%)\n"
     ]
    },
    {
     "data": {
      "image/png": "[encoded data removed]",
      "text/plain": [
       "<Figure size 720x360 with 2 Axes>"
      ]
     },
     "metadata": {
      "needs_background": "light"
     },
     "output_type": "display_data"
    }
   ],
   "source": [
    "a = evaluate_classifiers (train_features, df_labels_train, test_features, df_labels_test,'NA','NA')"
   ]
  },
  {
   "cell_type": "markdown",
   "id": "fe584f78",
   "metadata": {
    "scrolled": true
   },
   "source": [
    "*****\n",
    "### Classification with feature selcetion (method: Chi-2, 1000-best)"
   ]
  },
  {
   "cell_type": "code",
   "execution_count": 12,
   "id": "94c34ef0",
   "metadata": {
    "scrolled": false
   },
   "outputs": [
    {
     "name": "stdout",
     "output_type": "stream",
     "text": [
      "\n",
      "\n",
      "Classification Report & Confusion matrix \n",
      "(classifier= Decision tree, feature selection = Chi2 with 1000-best features, dimension reduction = none)\n",
      "\n",
      "              precision    recall  f1-score   support\n",
      "\n",
      "           0       0.03      0.18      0.05       142\n",
      "           1       0.00      0.00      0.00        13\n",
      "           2       0.05      0.30      0.08       217\n",
      "           3       0.93      0.55      0.70      5411\n",
      "\n",
      "    accuracy                           0.53      5783\n",
      "   macro avg       0.25      0.26      0.21      5783\n",
      "weighted avg       0.88      0.53      0.65      5783\n",
      "\n",
      "-------------------------------------------------------------\n",
      "|           |   agree   | disagree  |  discuss  | unrelated |\n",
      "-------------------------------------------------------------\n",
      "|   agree   |    26     |     3     |    23     |    90     |\n",
      "-------------------------------------------------------------\n",
      "| disagree  |     3     |     0     |     4     |     6     |\n",
      "-------------------------------------------------------------\n",
      "|  discuss  |    27     |     6     |    66     |    118    |\n",
      "-------------------------------------------------------------\n",
      "| unrelated |    871    |    173    |   1370    |   2997    |\n",
      "-------------------------------------------------------------\n",
      "Score: 857.75 out of 1724.75\t(49.73184519495579%)\n",
      "\n",
      "\n",
      "Classification Report & Confusion matrix \n",
      "(classifier= Random Forest, feature selection = Chi2 with 1000-best features, dimension reduction = none)\n",
      "\n",
      "              precision    recall  f1-score   support\n",
      "\n",
      "           0       0.04      0.13      0.06       142\n",
      "           1       0.09      0.08      0.08        13\n",
      "           2       0.03      0.36      0.06       217\n",
      "           3       0.93      0.50      0.65      5411\n",
      "\n",
      "    accuracy                           0.49      5783\n",
      "   macro avg       0.27      0.27      0.21      5783\n",
      "weighted avg       0.87      0.49      0.62      5783\n",
      "\n",
      "-------------------------------------------------------------\n",
      "|           |   agree   | disagree  |  discuss  | unrelated |\n",
      "-------------------------------------------------------------\n",
      "|   agree   |    19     |     0     |    50     |    73     |\n",
      "-------------------------------------------------------------\n",
      "| disagree  |     0     |     1     |     3     |     9     |\n",
      "-------------------------------------------------------------\n",
      "|  discuss  |    18     |     0     |    79     |    120    |\n",
      "-------------------------------------------------------------\n",
      "| unrelated |    452    |    10     |   2223    |   2726    |\n",
      "-------------------------------------------------------------\n",
      "Score: 798.25 out of 1724.75\t(46.282069865197855%)\n",
      "\n",
      "\n",
      "Classification Report & Confusion matrix \n",
      "(classifier= KNeighbor, feature selection = Chi2 with 1000-best features, dimension reduction = none)\n",
      "\n",
      "              precision    recall  f1-score   support\n",
      "\n",
      "           0       0.04      0.22      0.07       142\n",
      "           1       0.00      0.00      0.00        13\n",
      "           2       0.03      0.38      0.06       217\n",
      "           3       0.94      0.43      0.59      5411\n",
      "\n",
      "    accuracy                           0.42      5783\n",
      "   macro avg       0.25      0.26      0.18      5783\n",
      "weighted avg       0.88      0.42      0.55      5783\n",
      "\n",
      "-------------------------------------------------------------\n",
      "|           |   agree   | disagree  |  discuss  | unrelated |\n",
      "-------------------------------------------------------------\n",
      "|   agree   |    31     |     4     |    53     |    54     |\n",
      "-------------------------------------------------------------\n",
      "| disagree  |     5     |     0     |     3     |     5     |\n",
      "-------------------------------------------------------------\n",
      "|  discuss  |    31     |     4     |    82     |    100    |\n",
      "-------------------------------------------------------------\n",
      "| unrelated |    713    |    53     |   2334    |   2311    |\n",
      "-------------------------------------------------------------\n",
      "Score: 715.75 out of 1724.75\t(41.498767937382226%)\n",
      "\n",
      "\n",
      "Classification Report & Confusion matrix \n",
      "(classifier= SGDC, feature selection = Chi2 with 1000-best features, dimension reduction = none)\n",
      "\n",
      "              precision    recall  f1-score   support\n",
      "\n",
      "           0       0.04      0.10      0.05       142\n",
      "           1       0.00      0.08      0.01        13\n",
      "           2       0.03      0.25      0.05       217\n",
      "           3       0.93      0.56      0.70      5411\n",
      "\n",
      "    accuracy                           0.54      5783\n",
      "   macro avg       0.25      0.25      0.20      5783\n",
      "weighted avg       0.87      0.54      0.66      5783\n",
      "\n",
      "-------------------------------------------------------------\n",
      "|           |   agree   | disagree  |  discuss  | unrelated |\n",
      "-------------------------------------------------------------\n",
      "|   agree   |    14     |     5     |    39     |    84     |\n",
      "-------------------------------------------------------------\n",
      "| disagree  |     0     |     1     |     6     |     6     |\n",
      "-------------------------------------------------------------\n",
      "|  discuss  |    12     |    14     |    54     |    137    |\n",
      "-------------------------------------------------------------\n",
      "| unrelated |    362    |    233    |   1765    |   3051    |\n",
      "-------------------------------------------------------------\n",
      "Score: 850.75 out of 1724.75\t(49.3259892738078%)\n"
     ]
    },
    {
     "data": {
      "image/png": "[encoded data removed]",
      "text/plain": [
       "<Figure size 720x360 with 2 Axes>"
      ]
     },
     "metadata": {
      "needs_background": "light"
     },
     "output_type": "display_data"
    }
   ],
   "source": [
    "b = evaluate_classifiers (train_features, df_labels_train, test_features, df_labels_test,'NA','chi2')"
   ]
  },
  {
   "cell_type": "markdown",
   "id": "ce469b12",
   "metadata": {},
   "source": [
    "### Classification with feature selection (Chi2, 1000-best) and dimension reduction (PCA, top 300)"
   ]
  },
  {
   "cell_type": "code",
   "execution_count": 13,
   "id": "776042cd",
   "metadata": {
    "scrolled": false
   },
   "outputs": [
    {
     "name": "stdout",
     "output_type": "stream",
     "text": [
      "\n",
      "\n",
      "Classification Report & Confusion matrix \n",
      "(classifier= Decision tree, feature selection = Chi2 with 1000-best features, dimension reduction = PCA redn to 300 features)\n",
      "\n",
      "              precision    recall  f1-score   support\n",
      "\n",
      "           0       0.02      0.20      0.04       142\n",
      "           1       0.00      0.08      0.00        13\n",
      "           2       0.04      0.37      0.06       217\n",
      "           3       0.93      0.28      0.43      5411\n",
      "\n",
      "    accuracy                           0.28      5783\n",
      "   macro avg       0.25      0.23      0.14      5783\n",
      "weighted avg       0.87      0.28      0.41      5783\n",
      "\n",
      "-------------------------------------------------------------\n",
      "|           |   agree   | disagree  |  discuss  | unrelated |\n",
      "-------------------------------------------------------------\n",
      "|   agree   |    29     |    10     |    55     |    48     |\n",
      "-------------------------------------------------------------\n",
      "| disagree  |     4     |     1     |     3     |     5     |\n",
      "-------------------------------------------------------------\n",
      "|  discuss  |    38     |    29     |    81     |    69     |\n",
      "-------------------------------------------------------------\n",
      "| unrelated |   1266    |    445    |   2170    |   1530    |\n",
      "-------------------------------------------------------------\n",
      "Score: 528.25 out of 1724.75\t(30.62762719234672%)\n",
      "\n",
      "\n",
      "Classification Report & Confusion matrix \n",
      "(classifier= Random Forest, feature selection = Chi2 with 1000-best features, dimension reduction = PCA redn to 300 features)\n",
      "\n",
      "              precision    recall  f1-score   support\n",
      "\n",
      "           0       0.03      0.15      0.05       142\n",
      "           1       0.00      0.00      0.00        13\n",
      "           2       0.04      0.60      0.08       217\n",
      "           3       0.95      0.37      0.53      5411\n",
      "\n",
      "    accuracy                           0.37      5783\n",
      "   macro avg       0.26      0.28      0.17      5783\n",
      "weighted avg       0.89      0.37      0.50      5783\n",
      "\n",
      "-------------------------------------------------------------\n",
      "|           |   agree   | disagree  |  discuss  | unrelated |\n",
      "-------------------------------------------------------------\n",
      "|   agree   |    22     |     2     |    72     |    46     |\n",
      "-------------------------------------------------------------\n",
      "| disagree  |     5     |     0     |     3     |     5     |\n",
      "-------------------------------------------------------------\n",
      "|  discuss  |    27     |     1     |    131    |    58     |\n",
      "-------------------------------------------------------------\n",
      "| unrelated |    669    |     4     |   2733    |   2005    |\n",
      "-------------------------------------------------------------\n",
      "Score: 681.75 out of 1724.75\t(39.52746774894912%)\n",
      "\n",
      "\n",
      "Classification Report & Confusion matrix \n",
      "(classifier= KNeighbor, feature selection = Chi2 with 1000-best features, dimension reduction = PCA redn to 300 features)\n",
      "\n",
      "              precision    recall  f1-score   support\n",
      "\n",
      "           0       0.04      0.22      0.07       142\n",
      "           1       0.00      0.00      0.00        13\n",
      "           2       0.03      0.38      0.06       217\n",
      "           3       0.93      0.42      0.58      5411\n",
      "\n",
      "    accuracy                           0.41      5783\n",
      "   macro avg       0.25      0.25      0.18      5783\n",
      "weighted avg       0.88      0.41      0.54      5783\n",
      "\n",
      "-------------------------------------------------------------\n",
      "|           |   agree   | disagree  |  discuss  | unrelated |\n",
      "-------------------------------------------------------------\n",
      "|   agree   |    31     |     4     |    55     |    52     |\n",
      "-------------------------------------------------------------\n",
      "| disagree  |     5     |     0     |     3     |     5     |\n",
      "-------------------------------------------------------------\n",
      "|  discuss  |    32     |     3     |    82     |    100    |\n",
      "-------------------------------------------------------------\n",
      "| unrelated |    723    |    50     |   2383    |   2255    |\n",
      "-------------------------------------------------------------\n",
      "Score: 702.25 out of 1724.75\t(40.716045803739675%)\n",
      "\n",
      "\n",
      "Classification Report & Confusion matrix \n",
      "(classifier= SGDC, feature selection = Chi2 with 1000-best features, dimension reduction = PCA redn to 300 features)\n",
      "\n",
      "              precision    recall  f1-score   support\n",
      "\n",
      "           0       0.02      0.30      0.04       142\n",
      "           1       0.00      0.00      0.00        13\n",
      "           2       0.04      0.28      0.07       217\n",
      "           3       0.94      0.30      0.46      5411\n",
      "\n",
      "    accuracy                           0.30      5783\n",
      "   macro avg       0.25      0.22      0.14      5783\n",
      "weighted avg       0.88      0.30      0.43      5783\n",
      "\n",
      "-------------------------------------------------------------\n",
      "|           |   agree   | disagree  |  discuss  | unrelated |\n",
      "-------------------------------------------------------------\n",
      "|   agree   |    43     |    10     |    50     |    39     |\n",
      "-------------------------------------------------------------\n",
      "| disagree  |     3     |     0     |     7     |     3     |\n",
      "-------------------------------------------------------------\n",
      "|  discuss  |    54     |    40     |    60     |    63     |\n",
      "-------------------------------------------------------------\n",
      "| unrelated |   1893    |    477    |   1415    |   1626    |\n",
      "-------------------------------------------------------------\n",
      "Score: 550.5 out of 1724.75\t(31.917669227424266%)\n"
     ]
    },
    {
     "data": {
      "image/png": "[encoded data removed]",
      "text/plain": [
       "<Figure size 720x360 with 2 Axes>"
      ]
     },
     "metadata": {
      "needs_background": "light"
     },
     "output_type": "display_data"
    }
   ],
   "source": [
    "c=evaluate_classifiers (train_features, df_labels_train, test_features, df_labels_test,'pca','chi2')"
   ]
  },
  {
   "cell_type": "markdown",
   "id": "6a56a9b1",
   "metadata": {},
   "source": [
    "### Classification with feature selection (Chi2, 1000-best) and dimension reduction (SVD, 300-top)"
   ]
  },
  {
   "cell_type": "code",
   "execution_count": 14,
   "id": "38298f2d",
   "metadata": {
    "scrolled": false
   },
   "outputs": [
    {
     "name": "stdout",
     "output_type": "stream",
     "text": [
      "\n",
      "\n",
      "Classification Report & Confusion matrix \n",
      "(classifier= Decision tree, feature selection = Chi2 with 1000-best features, dimension reduction = SVD redn to 300 features)\n",
      "\n",
      "              precision    recall  f1-score   support\n",
      "\n",
      "           0       0.02      0.16      0.04       142\n",
      "           1       0.00      0.08      0.00        13\n",
      "           2       0.04      0.44      0.08       217\n",
      "           3       0.94      0.37      0.53      5411\n",
      "\n",
      "    accuracy                           0.37      5783\n",
      "   macro avg       0.25      0.26      0.16      5783\n",
      "weighted avg       0.88      0.37      0.50      5783\n",
      "\n",
      "-------------------------------------------------------------\n",
      "|           |   agree   | disagree  |  discuss  | unrelated |\n",
      "-------------------------------------------------------------\n",
      "|   agree   |    23     |     8     |    61     |    50     |\n",
      "-------------------------------------------------------------\n",
      "| disagree  |     4     |     1     |     5     |     3     |\n",
      "-------------------------------------------------------------\n",
      "|  discuss  |    29     |     9     |    96     |    83     |\n",
      "-------------------------------------------------------------\n",
      "| unrelated |    954    |    436    |   2025    |   1996    |\n",
      "-------------------------------------------------------------\n",
      "Score: 648.0 out of 1724.75\t(37.57066241484273%)\n",
      "\n",
      "\n",
      "Classification Report & Confusion matrix \n",
      "(classifier= Random Forest, feature selection = Chi2 with 1000-best features, dimension reduction = SVD redn to 300 features)\n",
      "\n",
      "              precision    recall  f1-score   support\n",
      "\n",
      "           0       0.04      0.18      0.06       142\n",
      "           1       0.00      0.00      0.00        13\n",
      "           2       0.04      0.63      0.08       217\n",
      "           3       0.93      0.33      0.49      5411\n",
      "\n",
      "    accuracy                           0.33      5783\n",
      "   macro avg       0.25      0.28      0.16      5783\n",
      "weighted avg       0.88      0.33      0.46      5783\n",
      "\n",
      "-------------------------------------------------------------\n",
      "|           |   agree   | disagree  |  discuss  | unrelated |\n",
      "-------------------------------------------------------------\n",
      "|   agree   |    25     |     0     |    54     |    63     |\n",
      "-------------------------------------------------------------\n",
      "| disagree  |     2     |     0     |     4     |     7     |\n",
      "-------------------------------------------------------------\n",
      "|  discuss  |    25     |     2     |    136    |    54     |\n",
      "-------------------------------------------------------------\n",
      "| unrelated |    598    |     8     |   3029    |   1776    |\n",
      "-------------------------------------------------------------\n",
      "Score: 626.75 out of 1724.75\t(36.33859979707204%)\n",
      "\n",
      "\n",
      "Classification Report & Confusion matrix \n",
      "(classifier= KNeighbor, feature selection = Chi2 with 1000-best features, dimension reduction = SVD redn to 300 features)\n",
      "\n",
      "              precision    recall  f1-score   support\n",
      "\n",
      "           0       0.04      0.23      0.07       142\n",
      "           1       0.00      0.00      0.00        13\n",
      "           2       0.03      0.38      0.06       217\n",
      "           3       0.94      0.42      0.58      5411\n",
      "\n",
      "    accuracy                           0.41      5783\n",
      "   macro avg       0.25      0.26      0.18      5783\n",
      "weighted avg       0.88      0.41      0.55      5783\n",
      "\n",
      "-------------------------------------------------------------\n",
      "|           |   agree   | disagree  |  discuss  | unrelated |\n",
      "-------------------------------------------------------------\n",
      "|   agree   |    32     |     4     |    53     |    53     |\n",
      "-------------------------------------------------------------\n",
      "| disagree  |     5     |     0     |     3     |     5     |\n",
      "-------------------------------------------------------------\n",
      "|  discuss  |    34     |     4     |    82     |    97     |\n",
      "-------------------------------------------------------------\n",
      "| unrelated |    712    |    49     |   2367    |   2283    |\n",
      "-------------------------------------------------------------\n",
      "Score: 710.5 out of 1724.75\t(41.19437599652124%)\n",
      "\n",
      "\n",
      "Classification Report & Confusion matrix \n",
      "(classifier= SGDC, feature selection = Chi2 with 1000-best features, dimension reduction = SVD redn to 300 features)\n",
      "\n",
      "              precision    recall  f1-score   support\n",
      "\n",
      "           0       0.03      0.15      0.05       142\n",
      "           1       0.00      0.00      0.00        13\n",
      "           2       0.03      0.08      0.04       217\n",
      "           3       0.94      0.79      0.86      5411\n",
      "\n",
      "    accuracy                           0.74      5783\n",
      "   macro avg       0.25      0.25      0.24      5783\n",
      "weighted avg       0.88      0.74      0.80      5783\n",
      "\n",
      "-------------------------------------------------------------\n",
      "|           |   agree   | disagree  |  discuss  | unrelated |\n",
      "-------------------------------------------------------------\n",
      "|   agree   |    21     |     3     |    12     |    106    |\n",
      "-------------------------------------------------------------\n",
      "| disagree  |     2     |     0     |     1     |    10     |\n",
      "-------------------------------------------------------------\n",
      "|  discuss  |    24     |     0     |    17     |    176    |\n",
      "-------------------------------------------------------------\n",
      "| unrelated |    575    |    17     |    552    |   4267    |\n",
      "-------------------------------------------------------------\n",
      "Score: 1115.25 out of 1724.75\t(64.66154515147123%)\n"
     ]
    },
    {
     "data": {
      "image/png": "[encoded data removed]",
      "text/plain": [
       "<Figure size 720x360 with 2 Axes>"
      ]
     },
     "metadata": {
      "needs_background": "light"
     },
     "output_type": "display_data"
    }
   ],
   "source": [
    "d=evaluate_classifiers (train_features, df_labels_train, test_features, df_labels_test,'svd','chi2')"
   ]
  },
  {
   "cell_type": "markdown",
   "id": "d8e6b343",
   "metadata": {},
   "source": [
    "### Comparision"
   ]
  },
  {
   "cell_type": "code",
   "execution_count": 15,
   "id": "b9c23e4a",
   "metadata": {},
   "outputs": [
    {
     "data": {
      "image/png": "[encoded data removed]",
      "text/plain": [
       "<Figure size 720x360 with 1 Axes>"
      ]
     },
     "metadata": {
      "needs_background": "light"
     },
     "output_type": "display_data"
    }
   ],
   "source": [
    "fig, ax = ploty.subplots(figsize=(10,5))\n",
    "ax.set_ylabel('Accuracy score', color='#ff7f0e')\n",
    "x=nmp.arange(4)\n",
    "X=['Decision Tree', 'Random Forest', 'KNeighbors', 'SGDC']\n",
    "ax.bar(x-0.3, a,0.2, color=['#17becf'], label='raw features')\n",
    "ax.bar(x-0.1, b,0.2,  color=['#ff7f0e'], label='only chi2')\n",
    "ax.bar(x+0.1, c,0.2, color=['#9467bd'], label='chi2+PCA')\n",
    "ax.bar(x+0.3, d,0.2,  color=['#bcbd22'], label='chi2+SVD')\n",
    "title=\"accuracy vs models vs features' choices\"\n",
    "ploty.title(title)\n",
    "ploty.xticks(x, X)\n",
    "ax.set_ylim([0, 100])\n",
    "ax.legend(loc='upper right')\n",
    "ploty.show()"
   ]
  },
  {
   "cell_type": "markdown",
   "id": "35fc2ef4",
   "metadata": {},
   "source": [
    "*****\n",
    "### Classification using GLove embedding\n",
    "*****"
   ]
  },
  {
   "cell_type": "code",
   "execution_count": 16,
   "id": "c0300c8a",
   "metadata": {},
   "outputs": [],
   "source": [
    "vocab_length=5000\n",
    "max_headline = 15\n",
    "max_body = 800\n",
    "\n",
    "df_stances=df_stances.sample(frac = 0.5) # only picking half samples to ease computational laod\n",
    "df_stances.reset_index(drop=True, inplace=True)\n",
    "\n",
    "# train-test split of BodyIDs in 80:20 ratio\n",
    "training_ids = df_bodies['Body ID'][:int(0.8 * len(df_bodies))] \n",
    "test_ids = df_bodies['Body ID'][int(0.8 * len(df_bodies)):].reset_index(drop=True)\n",
    "\n",
    "# assembling the train and test dataframes by combining the bodies and stances over BodyID\n",
    "tokens_train=[]\n",
    "tokens_test=[]\n",
    "for i in range(len(df_stances)):\n",
    "    body = (df_bodies.loc[df_bodies['Body ID']==df_stances.loc[i]['Body ID']].squeeze())['articleBody']\n",
    "    if df_stances.loc[i]['Body ID'] in test_ids:\n",
    "        tokens_test.append([df_stances.loc[i]['Headline'], body , df_stances.loc[i]['Stance']])\n",
    "    else:\n",
    "        tokens_train.append([df_stances.loc[i]['Headline'], body , df_stances.loc[i]['Stance']])    \n",
    "df_tokens_train = pand.DataFrame(tokens_train, columns=['Headline', 'articleBody', 'Stance'])\n",
    "df_tokens_test = pand.DataFrame(tokens_test, columns=['Headline', 'articleBody', 'Stance'])\n",
    "labels_test=[]\n",
    "for i in range(len(tokens_test)):\n",
    "    labels_test.append(LABELS.index(df_tokens_test.loc[i]['Stance']))\n",
    "labels_train=[]\n",
    "for i in range(len(tokens_train)):\n",
    "    labels_train.append(LABELS.index(df_tokens_train.loc[i]['Stance']))\n",
    "df_labels_test= nmp.array(labels_test)\n",
    "df_labels_train = nmp.array(labels_train)\n",
    "\n",
    "tokenizer = Tokenizer(num_words=vocab_length, oov_token='<OOV>')\n",
    "tokenizer.fit_on_texts(df_stances['Headline'].append(df_bodies['articleBody']))\n",
    "\n",
    "train_headline_features_unpad = tokenizer.texts_to_sequences(df_tokens_train['Headline'])\n",
    "train_headline_features_padded = pad_sequences(train_headline_features_unpad, maxlen=max_headline, padding='post', truncating='post')\n",
    "train_body_features_unpad = tokenizer.texts_to_sequences(df_tokens_train['Headline'])\n",
    "train_body_features_padded = pad_sequences(train_body_features_unpad, maxlen=max_body, padding='post', truncating='post')\n",
    "train_features = nmp.hstack([train_headline_features_padded, train_body_features_padded])\n",
    "\n",
    "test_headline_features_unpad = tokenizer.texts_to_sequences(df_tokens_test['Headline'])\n",
    "test_headline_features_padded = pad_sequences(test_headline_features_unpad, maxlen=max_headline, padding='post', truncating='post')\n",
    "test_body_features_unpad = tokenizer.texts_to_sequences(df_tokens_test['Headline'])\n",
    "test_body_features_padded = pad_sequences(test_body_features_unpad, maxlen=max_body, padding='post', truncating='post')\n",
    "test_features = nmp.hstack([test_headline_features_padded, test_body_features_padded])"
   ]
  },
  {
   "cell_type": "code",
   "execution_count": 17,
   "id": "dc958957",
   "metadata": {},
   "outputs": [],
   "source": [
    "embedding_dict = dict()\n",
    "\n",
    "with open (\"glove.42B.300d.txt\", \"r\") as f:\n",
    "    for line in f:\n",
    "        values = line.split()\n",
    "        word = values[0]\n",
    "        vectors = nmp.asarray(values[1:], dtype='float32')\n",
    "        embedding_dict[word] = vectors\n",
    "\n",
    "f.close()\n",
    "\n",
    "embedding_matrix = nmp.zeros((vocab_length+1, 300))\n",
    "\n",
    "for word, i in tokenizer.word_index.items():\n",
    "    if i<vocab_length+1:\n",
    "        embedding_vec = embedding_dict.get(word)\n",
    "        if embedding_vec is not None:\n",
    "            embedding_matrix[i] = embedding_vec\n"
   ]
  },
  {
   "cell_type": "code",
   "execution_count": 18,
   "id": "c5d595f4",
   "metadata": {
    "scrolled": true
   },
   "outputs": [
    {
     "name": "stderr",
     "output_type": "stream",
     "text": [
      "2022-02-15 22:41:46.342476: I tensorflow/core/platform/cpu_feature_guard.cc:145] This TensorFlow binary is optimized with Intel(R) MKL-DNN to use the following CPU instructions in performance critical operations:  SSE4.1 SSE4.2 AVX AVX2 FMA\n",
      "To enable them in non-MKL-DNN operations, rebuild TensorFlow with the appropriate compiler flags.\n",
      "2022-02-15 22:41:46.348583: I tensorflow/core/common_runtime/process_util.cc:115] Creating new thread pool with default inter op setting: 4. Tune using inter_op_parallelism_threads for best performance.\n"
     ]
    },
    {
     "name": "stdout",
     "output_type": "stream",
     "text": [
      "Model: \"sequential\"\n",
      "_________________________________________________________________\n",
      "Layer (type)                 Output Shape              Param #   \n",
      "=================================================================\n",
      "embedding (Embedding)        (None, 815, 300)          1500300   \n",
      "_________________________________________________________________\n",
      "lstm (LSTM)                  (None, 1)                 1208      \n",
      "_________________________________________________________________\n",
      "dense (Dense)                (None, 4)                 8         \n",
      "=================================================================\n",
      "Total params: 1,501,516\n",
      "Trainable params: 1,216\n",
      "Non-trainable params: 1,500,300\n",
      "_________________________________________________________________\n"
     ]
    }
   ],
   "source": [
    "# a shollow network to make \n",
    "model=Sequential()\n",
    "model.add(\n",
    "    Embedding(\n",
    "        vocab_length+1, \n",
    "        300, \n",
    "        embeddings_initializer = Constant (embedding_matrix),\n",
    "        input_length=(max_body+max_headline), \n",
    "        trainable=False\n",
    "    )\n",
    ")\n",
    "model.add(LSTM(1, dropout=0.2))\n",
    "model.add(Dense(4,activation='sigmoid'))\n",
    "model.compile(optimizer='adam', loss='categorical_crossentropy', metrics=['accuracy'])\n",
    "model.summary()"
   ]
  },
  {
   "cell_type": "code",
   "execution_count": 19,
   "id": "47c2824a",
   "metadata": {},
   "outputs": [],
   "source": [
    "\n",
    "y_train = df_labels_train\n",
    "y_test = df_labels_test\n",
    "from keras.utils import to_categorical\n",
    "y_train = to_categorical(y_train)\n",
    "y_test=to_categorical(y_test)\n"
   ]
  },
  {
   "cell_type": "code",
   "execution_count": 20,
   "id": "c9f26150",
   "metadata": {
    "scrolled": true
   },
   "outputs": [
    {
     "name": "stdout",
     "output_type": "stream",
     "text": [
      "Train on 22143 samples\n"
     ]
    },
    {
     "name": "stderr",
     "output_type": "stream",
     "text": [
      "2022-02-15 22:41:48.794146: W tensorflow/core/grappler/optimizers/implementation_selector.cc:310] Skipping optimization due to error while loading function libraries: Invalid argument: Functions '__inference___backward_standard_lstm_2956_3441_specialized_for_StatefulPartitionedCall_at___inference_distributed_function_3566' and '__inference___backward_cudnn_lstm_with_fallback_2624_2806' both implement 'lstm_a183d032-a460-4720-a1aa-bf83849ce930' but their signatures do not match.\n"
     ]
    },
    {
     "name": "stdout",
     "output_type": "stream",
     "text": [
      "22143/22143 [==============================] - 1073s 48ms/sample - loss: 1.1756 - accuracy: 0.7021\n"
     ]
    },
    {
     "data": {
      "text/plain": [
       "<tensorflow.python.keras.callbacks.History at 0x7f7cdeff8e10>"
      ]
     },
     "execution_count": 20,
     "metadata": {},
     "output_type": "execute_result"
    }
   ],
   "source": [
    "model.fit(train_features,y_train, epochs=1, verbose=1)"
   ]
  },
  {
   "cell_type": "code",
   "execution_count": 21,
   "id": "a8046d2d",
   "metadata": {},
   "outputs": [],
   "source": [
    "df_bodies_comp = pand.read_csv(\"FNC_1_Data/competition_test_bodies.csv\")\n",
    "df_stances_comp = pand.read_csv(\"FNC_1_Data/competition_test_stances.csv\")\n",
    "\n",
    "df_stances_comp['Body ID'] = df_stances_comp['Body ID'].astype(str).astype(int) \n",
    "df_bodies_comp['Body ID'] = df_bodies_comp['Body ID'].astype(str).astype(int)\n",
    "\n",
    "tokens_test_comp=[]\n",
    "for i in range(len(df_stances_comp)):\n",
    "    body = (df_bodies_comp.loc[df_bodies_comp['Body ID']==df_stances_comp.loc[i]['Body ID']].squeeze())['articleBody']\n",
    "    tokens_test_comp.append([df_stances_comp.loc[i]['Headline'], body , df_stances_comp.loc[i]['Stance']])  \n",
    "df_tokens_test_comp = pand.DataFrame(tokens_test_comp, columns=['Headline', 'articleBody', 'Stance'])\n",
    "labels_test_comp=[]\n",
    "for i in range(len(tokens_test_comp)):\n",
    "    labels_test_comp.append(LABELS.index(df_tokens_test_comp.loc[i]['Stance']))\n",
    "df_labels_test_comp= nmp.array(labels_test_comp)\n",
    "\n",
    "test_comp_headline_features_unpad = tokenizer.texts_to_sequences(df_tokens_test_comp['Headline'])\n",
    "test_comp_headline_features_padded = pad_sequences(test_comp_headline_features_unpad, maxlen=max_headline, padding='post', truncating='post')\n",
    "test_comp_body_features_unpad = tokenizer.texts_to_sequences(df_tokens_test_comp['articleBody'])\n",
    "test_comp_body_features_padded = pad_sequences(test_comp_body_features_unpad, maxlen=max_body, padding='post', truncating='post')\n",
    "test_comp_features = nmp.hstack([test_comp_headline_features_padded, test_comp_body_features_padded])\n",
    "\n",
    "y_test_comp = df_labels_test_comp\n",
    "#y_test_comp =to_categorical(y_test_comp)\n",
    "\n"
   ]
  },
  {
   "cell_type": "code",
   "execution_count": 22,
   "id": "e5587b03",
   "metadata": {
    "scrolled": true
   },
   "outputs": [
    {
     "name": "stderr",
     "output_type": "stream",
     "text": [
      "2022-02-15 23:00:07.542796: W tensorflow/core/grappler/optimizers/implementation_selector.cc:310] Skipping optimization due to error while loading function libraries: Invalid argument: Functions '__inference_standard_lstm_5888' and '__inference_standard_lstm_5888_specialized_for_sequential_lstm_StatefulPartitionedCall_at___inference_distributed_function_6191' both implement 'lstm_8c7eef8c-1ee9-4bad-9684-428242c18a48' but their signatures do not match.\n"
     ]
    }
   ],
   "source": [
    "pred = model.predict(test_comp_features)\n",
    "\n"
   ]
  },
  {
   "cell_type": "code",
   "execution_count": 23,
   "id": "67331397",
   "metadata": {},
   "outputs": [],
   "source": [
    "pred_comp = nmp.array([0 for i in range(len(y_test_comp))])\n",
    "for i, p in enumerate(pred):\n",
    "    pred_comp[i] = nmp.argmax(p, axis=0)\n",
    "    #pred_comp[i] = pred[0][0]*0 + pred[0][1]*1 + pred[0][1]*2 + pred[0][3]*3"
   ]
  },
  {
   "cell_type": "code",
   "execution_count": 24,
   "id": "c00dbcde",
   "metadata": {},
   "outputs": [],
   "source": [
    "predicted = pred_comp\n",
    "actual = y_test_comp\n",
    "#score.report_score(actual, predicted)\n",
    "accuracy_embedding = accuracy_score(actual,predicted)"
   ]
  },
  {
   "cell_type": "code",
   "execution_count": 25,
   "id": "bfe879e4",
   "metadata": {},
   "outputs": [
    {
     "data": {
      "text/plain": [
       "0.7220320308503522"
      ]
     },
     "execution_count": 25,
     "metadata": {},
     "output_type": "execute_result"
    }
   ],
   "source": [
    "accuracy_embedding"
   ]
  },
  {
   "cell_type": "code",
   "execution_count": 26,
   "id": "e5352291",
   "metadata": {
    "scrolled": true
   },
   "outputs": [
    {
     "data": {
      "text/plain": [
       "<Figure size 432x288 with 0 Axes>"
      ]
     },
     "metadata": {},
     "output_type": "display_data"
    },
    {
     "data": {
      "image/png": "[encoded data removed]",
      "text/plain": [
       "<Figure size 432x288 with 2 Axes>"
      ]
     },
     "metadata": {
      "needs_background": "light"
     },
     "output_type": "display_data"
    }
   ],
   "source": [
    "ploty.figure()\n",
    "disp=ConfusionMatrixDisplay.from_predictions(actual, predicted, cmap='PuRd')\n",
    "ploty.show()"
   ]
  },
  {
   "cell_type": "code",
   "execution_count": null,
   "id": "aa8c4951",
   "metadata": {},
   "outputs": [],
   "source": []
  }
 ],
 "metadata": {
  "kernelspec": {
   "display_name": "Python 3 (ipykernel)",
   "language": "python",
   "name": "python3"
  },
  "language_info": {
   "codemirror_mode": {
    "name": "ipython",
    "version": 3
   },
   "file_extension": ".py",
   "mimetype": "text/x-python",
   "name": "python",
   "nbconvert_exporter": "python",
   "pygments_lexer": "ipython3",
   "version": "3.7.7"
  }
 },
 "nbformat": 4,
 "nbformat_minor": 5
}
